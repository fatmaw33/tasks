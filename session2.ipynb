{
 "cells": [
  {
   "cell_type": "code",
   "execution_count": 2,
   "id": "7fa92183",
   "metadata": {},
   "outputs": [
    {
     "name": "stdout",
     "output_type": "stream",
     "text": [
      "50\n"
     ]
    }
   ],
   "source": [
    "a=10\n",
    "n=5\n",
    "print(a*n)"
   ]
  },
  {
   "cell_type": "code",
   "execution_count": 3,
   "id": "43bf6029",
   "metadata": {},
   "outputs": [
    {
     "name": "stdout",
     "output_type": "stream",
     "text": [
      "2.0\n"
     ]
    }
   ],
   "source": [
    "a=10\n",
    "n=5\n",
    "print(a/n)"
   ]
  },
  {
   "cell_type": "code",
   "execution_count": 6,
   "id": "07bc26b5",
   "metadata": {},
   "outputs": [
    {
     "name": "stdout",
     "output_type": "stream",
     "text": [
      "True\n"
     ]
    }
   ],
   "source": [
    "fruits=[\"Apple\" , \"orange\" ,\"bannsa\"]\n",
    "print(\"Apple\" in fruits)"
   ]
  },
  {
   "cell_type": "code",
   "execution_count": 8,
   "id": "85baddd1",
   "metadata": {},
   "outputs": [
    {
     "name": "stdout",
     "output_type": "stream",
     "text": [
      "True\n"
     ]
    }
   ],
   "source": [
    "print(10!=5)"
   ]
  },
  {
   "cell_type": "code",
   "execution_count": 13,
   "id": "91d516b6",
   "metadata": {},
   "outputs": [
    {
     "name": "stdout",
     "output_type": "stream",
     "text": [
      "True\n"
     ]
    }
   ],
   "source": [
    "print(True or False)"
   ]
  },
  {
   "cell_type": "code",
   "execution_count": 10,
   "id": "7895b5d1",
   "metadata": {},
   "outputs": [
    {
     "name": "stdout",
     "output_type": "stream",
     "text": [
      "orange\n"
     ]
    }
   ],
   "source": [
    "fruits=[\"Apple\" , \"orange\" ,\"bannsa\"]\n",
    "print(fruits[1])"
   ]
  },
  {
   "cell_type": "code",
   "execution_count": 11,
   "id": "016cae37",
   "metadata": {},
   "outputs": [
    {
     "name": "stdout",
     "output_type": "stream",
     "text": [
      "['Kiki', 'orange', 'bannsa']\n"
     ]
    }
   ],
   "source": [
    "fruits=[\"Apple\" , \"orange\" ,\"bannba\"]\n",
    "fruits[0]=\"Kiki\"\n",
    "print(fruits)"
   ]
  },
  {
   "cell_type": "code",
   "execution_count": 15,
   "id": "c60fd510",
   "metadata": {},
   "outputs": [
    {
     "name": "stdout",
     "output_type": "stream",
     "text": [
      "['Apple', 'bannsa', 'orange']\n"
     ]
    }
   ],
   "source": [
    "fruits=[\"Apple\" ,\"bannba\"]\n",
    "fruits.append(\"orange\")\n",
    "print(fruits)"
   ]
  },
  {
   "cell_type": "code",
   "execution_count": 16,
   "id": "c567637d",
   "metadata": {},
   "outputs": [
    {
     "name": "stdout",
     "output_type": "stream",
     "text": [
      "['Apple', 'orange', 'bannsa']\n"
     ]
    }
   ],
   "source": [
    "fruits=[\"Apple\" ,\"bannba\"]\n",
    "fruits.insert(1,\"orange\")\n",
    "print(fruits)"
   ]
  },
  {
   "cell_type": "code",
   "execution_count": 17,
   "id": "95656ee6",
   "metadata": {},
   "outputs": [
    {
     "name": "stdout",
     "output_type": "stream",
     "text": [
      "['Apple']\n"
     ]
    }
   ],
   "source": [
    "fruits=[\"Apple\" ,\"bannba\"]\n",
    "fruits.remove(\"bannba\")\n",
    "print(fruits)"
   ]
  },
  {
   "cell_type": "code",
   "execution_count": 18,
   "id": "7971e9f1",
   "metadata": {},
   "outputs": [
    {
     "name": "stdout",
     "output_type": "stream",
     "text": [
      "bannba\n"
     ]
    }
   ],
   "source": [
    "fruits=[\"Apple\" , \"orange\" ,\"bannba\"]\n",
    "print(fruits[-1])"
   ]
  },
  {
   "cell_type": "code",
   "execution_count": 21,
   "id": "bf54c335",
   "metadata": {},
   "outputs": [
    {
     "name": "stdout",
     "output_type": "stream",
     "text": [
      "['bannba', 'Apple', 'orange']\n"
     ]
    }
   ],
   "source": [
    "fruits=[\"Apple\" , \"orange\" ,\"bannba\",\"Apple\" , \"orange\" ,\"bannba\"]\n",
    "print(fruits[2:5])"
   ]
  },
  {
   "cell_type": "code",
   "execution_count": 30,
   "id": "56356709",
   "metadata": {},
   "outputs": [
    {
     "name": "stdout",
     "output_type": "stream",
     "text": [
      "546\n",
      "988.0\n",
      "46\n",
      "546\n",
      "890\n",
      "878\n",
      "786\n",
      "400\n",
      "676\n",
      "100\n"
     ]
    }
   ],
   "source": [
    "lists=[546,988.,46,546,67,890,878,786,400,676,100 , 237]\n",
    "for i in lists:\n",
    " if (i %2 ==0):\n",
    "      print(i)\n",
    " elif (i==237):\n",
    "        break       \n",
    "    \n",
    " "
   ]
  },
  {
   "cell_type": "code",
   "execution_count": 31,
   "id": "a58800ca",
   "metadata": {},
   "outputs": [
    {
     "name": "stdout",
     "output_type": "stream",
     "text": [
      "input the height: 34\n",
      "input the base: 67\n",
      "1139.0\n"
     ]
    }
   ],
   "source": [
    "height=float(input(\"input the height: \"))\n",
    "base=float(input(\"input the base: \"))\n",
    "area=0.5*base*height\n",
    "print(area)\n"
   ]
  },
  {
   "cell_type": "code",
   "execution_count": 32,
   "id": "3ea63563",
   "metadata": {},
   "outputs": [
    {
     "name": "stdout",
     "output_type": "stream",
     "text": [
      "546\n",
      "988.0\n",
      "46\n",
      "546\n",
      "890\n",
      "878\n",
      "786\n",
      "400\n",
      "676\n",
      "100\n"
     ]
    }
   ],
   "source": [
    "lists=[546,988.,46,546,67,890,878,786,400,676,100 , 237]\n",
    "index=0\n",
    "while lists[index]!=237:\n",
    " if lists[index] %2 ==0:\n",
    "    print(lists[index])\n",
    " index+=1  "
   ]
  },
  {
   "cell_type": "code",
   "execution_count": 36,
   "id": "be440020",
   "metadata": {},
   "outputs": [
    {
     "name": "stdout",
     "output_type": "stream",
     "text": [
      "first num4\n",
      "second num8\n",
      "third num7\n",
      "8 7 4\n"
     ]
    }
   ],
   "source": [
    "val1=int(input(\"first num\"))\n",
    "val2=int(input(\"second num\"))\n",
    "val3=int(input(\"third num\"))\n",
    "max1=max(val1,val2,val3)\n",
    "min1=min(val1,val2,val3)\n",
    "middle=val1+val2+val3-max1-min1\n",
    "print(max1,middle,min1 )"
   ]
  },
  {
   "cell_type": "code",
   "execution_count": 37,
   "id": "9e4f7514",
   "metadata": {},
   "outputs": [
    {
     "name": "stdout",
     "output_type": "stream",
     "text": [
      "enter the range: 5\n",
      "enter the nums: 8\n",
      "enter the nums: 7\n",
      "enter the nums: 8\n",
      "enter the nums: 7\n",
      "enter the nums: 5\n",
      "false\n"
     ]
    }
   ],
   "source": [
    "z=[]\n",
    "x=int(input(\"enter the range: \"))\n",
    "for i in range(x):\n",
    " t=float(input(\"enter the nums: \"))\n",
    " z.append(t)\n",
    "if len(z)==len(set(z)):\n",
    "    print(\"true\")\n",
    "else:\n",
    "    print(\"false\")\n",
    "    \n"
   ]
  },
  {
   "cell_type": "code",
   "execution_count": 39,
   "id": "f67b680e",
   "metadata": {},
   "outputs": [
    {
     "name": "stdout",
     "output_type": "stream",
     "text": [
      "16\n"
     ]
    }
   ],
   "source": [
    "x={\"A\":2,\"b\":7,\"c\":5,\"u\":2}\n",
    "print(sum(x.values()))"
   ]
  },
  {
   "cell_type": "code",
   "execution_count": 46,
   "id": "1a168efc",
   "metadata": {},
   "outputs": [
    {
     "name": "stdout",
     "output_type": "stream",
     "text": [
      "{'b': 7, 'c': 5, 'u': 2}\n"
     ]
    }
   ],
   "source": [
    "x={\"A\":-2,\"b\":7,\"c\":5,\"u\":2}\n",
    "dic={a:b for a,b in x.items() if b>0  }\n",
    "print(dic)\n",
    "  "
   ]
  },
  {
   "cell_type": "code",
   "execution_count": 53,
   "id": "c861133a",
   "metadata": {},
   "outputs": [
    {
     "name": "stdout",
     "output_type": "stream",
     "text": [
      "false\n"
     ]
    }
   ],
   "source": [
    "b={\"b\":7,\"c\":2,\"u\":2}\n",
    "x=b.values()\n",
    "y=set(x)\n",
    "if len(x)==len(y):\n",
    "    print(\"true\")\n",
    "else:\n",
    "    print(\"false\")"
   ]
  },
  {
   "cell_type": "code",
   "execution_count": 57,
   "id": "3e539bf7",
   "metadata": {},
   "outputs": [
    {
     "name": "stdout",
     "output_type": "stream",
     "text": [
      "enter the value: 3\n"
     ]
    },
    {
     "data": {
      "text/plain": [
       "False"
      ]
     },
     "execution_count": 57,
     "metadata": {},
     "output_type": "execute_result"
    }
   ],
   "source": [
    "b={\"b\":7,\"c\":9,\"u\":2}\n",
    "x=int(input(\"enter the value: \"))\n",
    "x in b.values()"
   ]
  },
  {
   "cell_type": "code",
   "execution_count": 62,
   "id": "a4c5e202",
   "metadata": {},
   "outputs": [
    {
     "name": "stdout",
     "output_type": "stream",
     "text": [
      "enter the value: c\n",
      "False\n"
     ]
    }
   ],
   "source": [
    "b={\"b\":7,\"c\":9,\"u\":2}\n",
    "x=input(\"enter the value: \")\n",
    "print(x==any(b))"
   ]
  },
  {
   "cell_type": "code",
   "execution_count": 65,
   "id": "8ee6c09b",
   "metadata": {},
   "outputs": [
    {
     "name": "stdout",
     "output_type": "stream",
     "text": [
      "[(10, 80, 100), (10, 89, 100), (40, 80, 100)]\n"
     ]
    }
   ],
   "source": [
    "l=[(10,80,70),(10,89,50),(40,80,90)]\n",
    "l2=[]\n",
    "\n",
    " c=list(i)\n",
    " c[-1]=100\n",
    " l2.append(tuple(c))   \n",
    "print(l2.append(tuple(c)) for i in l )"
   ]
  },
  {
   "cell_type": "code",
   "execution_count": 66,
   "id": "dababe2d",
   "metadata": {},
   "outputs": [
    {
     "name": "stdout",
     "output_type": "stream",
     "text": [
      "hello\n"
     ]
    }
   ],
   "source": [
    "def say():\n",
    "    print(\"hello\")\n",
    "say()    "
   ]
  },
  {
   "cell_type": "code",
   "execution_count": 67,
   "id": "05b28f57",
   "metadata": {},
   "outputs": [
    {
     "name": "stdout",
     "output_type": "stream",
     "text": [
      "enter name1: fatma\n",
      "enter name2: waleed\n",
      "Hello fatma and Hello waleed\n"
     ]
    }
   ],
   "source": [
    "def gr(name1 , name2):\n",
    "    print(f'Hello {name1} and Hello {name2}')\n",
    "x=input(\"enter name1: \")   \n",
    "y=input(\"enter name2: \") \n",
    "gr(x,y)"
   ]
  },
  {
   "cell_type": "code",
   "execution_count": 68,
   "id": "ff4bad32",
   "metadata": {},
   "outputs": [
    {
     "name": "stdout",
     "output_type": "stream",
     "text": [
      "enter num1: 4\n",
      "enter num2: 6\n"
     ]
    },
    {
     "data": {
      "text/plain": [
       "10"
      ]
     },
     "execution_count": 68,
     "metadata": {},
     "output_type": "execute_result"
    }
   ],
   "source": [
    "def add(num1 , num2):\n",
    "   return num1+num2\n",
    "x=int(input(\"enter num1: \"))   \n",
    "y=int(input(\"enter num2: \")) \n",
    "add(x,y)"
   ]
  },
  {
   "cell_type": "code",
   "execution_count": 70,
   "id": "1fd8072b",
   "metadata": {},
   "outputs": [
    {
     "name": "stdout",
     "output_type": "stream",
     "text": [
      "1/2/3/44\n",
      "enter num18\n",
      "enter num22\n",
      "8 / 2 = 4.0\n"
     ]
    }
   ],
   "source": [
    "def sum(x,y):\n",
    "    return x+y\n",
    "def sub(x,y):\n",
    "    return x-y\n",
    "def mul(x,y):\n",
    "    return x*y\n",
    "def div(x,y):\n",
    "    return x/y\n",
    "choise=input(\"1/2/3/4\")\n",
    "num1=int(input(\"enter num1\"))\n",
    "num2=int(input(\"enter num2\"))\n",
    "if choise ==\"1\" :\n",
    "    print(num1,\"+\",num2,\"=\",add(num1,num2))\n",
    "elif choise ==\"2\" :\n",
    "    print(num1,\"-\",num2,\"=\",sub(num1,num2)) \n",
    "elif choise ==\"3\" :\n",
    "    print(num1,\"*\",num2,\"=\",mul(num1,num2)) \n",
    "elif choise ==\"4\" :\n",
    "    print(num1,\"/\",num2,\"=\",div(num1,num2))\n",
    "else:\n",
    "    print(\"Invalid input\")"
   ]
  },
  {
   "cell_type": "code",
   "execution_count": 73,
   "id": "49139a5e",
   "metadata": {},
   "outputs": [
    {
     "name": "stdout",
     "output_type": "stream",
     "text": [
      "sum:  12\n"
     ]
    }
   ],
   "source": [
    "add=lambda x,y : x*y\n",
    "print(\"sum: \", add(3,4))"
   ]
  },
  {
   "cell_type": "code",
   "execution_count": 80,
   "id": "a7f2147a",
   "metadata": {},
   "outputs": [
    {
     "name": "stdout",
     "output_type": "stream",
     "text": [
      "[1, 4, 9, 16, 25, 36]\n",
      "[1, 8, 27, 64, 125, 216]\n"
     ]
    }
   ],
   "source": [
    "def lis(a):\n",
    "    return a**2\n",
    "def list1(b):\n",
    "    return b**3\n",
    "x=map(lis,(1,2,3,4,5,6))\n",
    "y=map(list1,(1,2,3,4,5,6))\n",
    "print(list(x))\n",
    "print(list(y))"
   ]
  },
  {
   "cell_type": "code",
   "execution_count": 82,
   "id": "1b1745aa",
   "metadata": {},
   "outputs": [
    {
     "name": "stdout",
     "output_type": "stream",
     "text": [
      "[1, 4, 9, 16, 25, 36] \n",
      " [1, 8, 27, 64, 125, 216]\n"
     ]
    }
   ],
   "source": [
    "maps=[1,2,3,4,5,6]\n",
    "power2= lambda a: a**2\n",
    "power3= lambda a: a**3\n",
    "x=list(map(power2,maps))\n",
    "y=list(map(power3,maps))\n",
    "print(x,\"\\n\",y)"
   ]
  },
  {
   "cell_type": "code",
   "execution_count": 86,
   "id": "545e2932",
   "metadata": {},
   "outputs": [
    {
     "name": "stdout",
     "output_type": "stream",
     "text": [
      "('gh', 'ilk', 'jhbj', 'ij')\n"
     ]
    }
   ],
   "source": [
    "def person(*data):\n",
    "    print(data)\n",
    "person(\"gh\",\"ilk\",\"jhbj\",\"ij\")    \n",
    "    "
   ]
  },
  {
   "cell_type": "code",
   "execution_count": 87,
   "id": "07eeb302",
   "metadata": {},
   "outputs": [
    {
     "name": "stdout",
     "output_type": "stream",
     "text": [
      "{'a': 'gh', 'b': 'ilk', 'c': 'jhbj', 'd': 'ij'}\n"
     ]
    }
   ],
   "source": [
    "def person(**data):\n",
    "    print(data)\n",
    "person(a=\"gh\",b=\"ilk\",c=\"jhbj\",d=\"ij\") "
   ]
  },
  {
   "cell_type": "code",
   "execution_count": 15,
   "id": "a40023f0",
   "metadata": {},
   "outputs": [
    {
     "name": "stdout",
     "output_type": "stream",
     "text": [
      "5.0\n"
     ]
    }
   ],
   "source": [
    "mul= lambda x,h:x/h\n",
    "print(mul(10,2))    "
   ]
  },
  {
   "cell_type": "code",
   "execution_count": 21,
   "id": "e9e3ec67",
   "metadata": {},
   "outputs": [
    {
     "name": "stdout",
     "output_type": "stream",
     "text": [
      "yes\n"
     ]
    }
   ],
   "source": [
    "li=[\"apple\",\"banna\",\"chery\"]\n",
    "z= \"yes\" if \"apple\" in li else \"false\"\n",
    "print(z)"
   ]
  },
  {
   "cell_type": "code",
   "execution_count": 23,
   "id": "32b772fa",
   "metadata": {},
   "outputs": [
    {
     "name": "stdout",
     "output_type": "stream",
     "text": [
      "True\n"
     ]
    }
   ],
   "source": [
    "print(5!=10)"
   ]
  },
  {
   "cell_type": "code",
   "execution_count": 24,
   "id": "dfdb9427",
   "metadata": {},
   "outputs": [
    {
     "name": "stdout",
     "output_type": "stream",
     "text": [
      "True\n"
     ]
    }
   ],
   "source": [
    "print(5==10 or 4==4)"
   ]
  },
  {
   "cell_type": "code",
   "execution_count": 33,
   "id": "7f3b039f",
   "metadata": {},
   "outputs": [
    {
     "name": "stdout",
     "output_type": "stream",
     "text": [
      "9\n"
     ]
    }
   ],
   "source": [
    "li=[\"apple\",\"banna\",\"chery\",\"apple\",\"banna\",\"chery\",\"apple\",\"banna\",\"chery\"]\n",
    "print(len(li))"
   ]
  },
  {
   "cell_type": "code",
   "execution_count": 39,
   "id": "1927f834",
   "metadata": {},
   "outputs": [
    {
     "name": "stdout",
     "output_type": "stream",
     "text": [
      "[565, 768, 890]\n"
     ]
    }
   ],
   "source": [
    "i=[565,890,768]\n",
    "i.sort()\n",
    "print(i)"
   ]
  },
  {
   "cell_type": "code",
   "execution_count": 41,
   "id": "8491bfba",
   "metadata": {},
   "outputs": [
    {
     "name": "stdout",
     "output_type": "stream",
     "text": [
      "386\n",
      "462\n",
      "418\n",
      "344\n",
      "236\n",
      "566\n",
      "978\n",
      "328\n",
      "162\n",
      "758\n",
      "918\n"
     ]
    }
   ],
   "source": [
    "numbers = [386, 462, 47, 418, 907, 344, 236, 375, 823, 566, 597, 978, 328, 615, 953, 345,\n",
    "    399, 162, 758, 219, 918, 237, 412, 566, 826, 248, 866, 950, 626, 949, 687, 217,\n",
    "    815, 67, 104, 58, 512, 24, 892, 894, 767, 553, 81, 379, 843, 831, 445, 742, 717,\n",
    "    958,743, 527]\n",
    "index=0\n",
    "while numbers[index]!=237:\n",
    "    if numbers[index]%2==0:\n",
    "       print(numbers[index])\n",
    "    index+=1"
   ]
  },
  {
   "cell_type": "code",
   "execution_count": 42,
   "id": "b01e3de0",
   "metadata": {},
   "outputs": [
    {
     "name": "stdout",
     "output_type": "stream",
     "text": [
      "n145\n",
      "n276\n",
      "n367\n",
      "76 67 45\n"
     ]
    }
   ],
   "source": [
    "n1=int(input(\"n1\"))\n",
    "n2=int(input(\"n2\"))\n",
    "n3=int(input(\"n3\"))\n",
    "ma=max(n1,n2,n3)\n",
    "mi=min(n1,n2,n3)\n",
    "middle=n1+n2+n3-ma-mi\n",
    "print(ma,middle,mi)"
   ]
  },
  {
   "cell_type": "code",
   "execution_count": null,
   "id": "2513632b",
   "metadata": {},
   "outputs": [],
   "source": [
    "n1=int(input(\"n1\"))\n",
    "n2=int(input(\"n2\"))\n",
    "n3=int(input(\"n3\"))\n",
    "if n1>n2 :\n",
    "    print(\"max is \", n1)\n",
    "if n1>n2 :\n",
    "    print(\"max is \", n1)    "
   ]
  },
  {
   "cell_type": "code",
   "execution_count": 44,
   "id": "7074f7ab",
   "metadata": {},
   "outputs": [
    {
     "name": "stdout",
     "output_type": "stream",
     "text": [
      "input the len of list: 3\n",
      "input the nums of list: 5\n",
      "true\n",
      "input the nums of list: 9\n",
      "true\n",
      "input the nums of list: 8\n",
      "true\n"
     ]
    }
   ],
   "source": [
    "z=[]\n",
    "x=int(input(\"input the len of list: \"))\n",
    "for i in range(x):\n",
    "    w=float(input(\"input the nums of list: \"))\n",
    "    z.append(w)\n",
    "    if len(z) == len(set(z)):\n",
    "        print(\"true\")\n",
    "    else:    \n",
    "         print(\"false\")"
   ]
  },
  {
   "cell_type": "code",
   "execution_count": 1,
   "id": "1ee75ba3",
   "metadata": {},
   "outputs": [
    {
     "name": "stdout",
     "output_type": "stream",
     "text": [
      "[{'a': 1}, {'d': 7}, {'e': 0}]\n"
     ]
    }
   ],
   "source": [
    "ini_dict = {'a':1, 'b':-2, 'c':-3, 'd':7, 'e':0}\n",
    "result =[dict({(k,v)}) for k,v in ini_dict.items() if v>=0]\n",
    "print(result)"
   ]
  },
  {
   "cell_type": "code",
   "execution_count": 2,
   "id": "43702da6",
   "metadata": {},
   "outputs": [
    {
     "name": "stdout",
     "output_type": "stream",
     "text": [
      "Are not all values not similar in dictionary.\n"
     ]
    }
   ],
   "source": [
    "test_dict = {\"Gfg\": 8, \"is\": 5, \"Best\": 5}\n",
    "if len(set(test_dict.values())) ==1:\n",
    "  print(\"Are all values similar in dictionary. \")\n",
    "else:\n",
    "    print(\"Are not all values not similar in dictionary.\")"
   ]
  },
  {
   "cell_type": "code",
   "execution_count": 3,
   "id": "a2e3bb12",
   "metadata": {},
   "outputs": [
    {
     "name": "stdout",
     "output_type": "stream",
     "text": [
      "Enter the number: 4\n",
      "False\n"
     ]
    }
   ],
   "source": [
    "test_dict = {'gfg': 1, 'is': 2, 'best': 3,'best': 3}\n",
    "input_user = int(input(\"Enter the number: \"))\n",
    "result = any([True if i == input_user else False for i in test_dict.values()])\n",
    "print(result)"
   ]
  },
  {
   "cell_type": "code",
   "execution_count": 4,
   "id": "be5a12c9",
   "metadata": {},
   "outputs": [
    {
     "name": "stdout",
     "output_type": "stream",
     "text": [
      "Enter a number :4\n",
      "10\n"
     ]
    }
   ],
   "source": [
    "x = int(input(\"Enter a number: \"))\n",
    "print(sum([i for i in range(x + 1)]))"
   ]
  },
  {
   "cell_type": "code",
   "execution_count": 6,
   "id": "b6a6adc2",
   "metadata": {},
   "outputs": [
    {
     "name": "stdout",
     "output_type": "stream",
     "text": [
      "The factorial of 3 is 6\n"
     ]
    }
   ],
   "source": [
    "num = 3\n",
    "factorial = 1\n",
    "i = 1\n",
    "\n",
    "if num < 0:\n",
    "    print(\"Factorial does not exist for negative numbers\")\n",
    "elif num == 0:\n",
    "    print(\"The factorial of 0 is 1\")\n",
    "else:\n",
    "    while i <= num:\n",
    "        factorial *= i\n",
    "        i += 1\n",
    "    print(\"The factorial of\", num, \"is\", factorial)"
   ]
  },
  {
   "cell_type": "code",
   "execution_count": 7,
   "id": "3dab299c",
   "metadata": {},
   "outputs": [
    {
     "name": "stdout",
     "output_type": "stream",
     "text": [
      "24567\n"
     ]
    }
   ],
   "source": [
    "num = '76542'\n",
    "print(num[-1::-1])"
   ]
  },
  {
   "cell_type": "code",
   "execution_count": 8,
   "id": "337a95f6",
   "metadata": {},
   "outputs": [
    {
     "name": "stdout",
     "output_type": "stream",
     "text": [
      "20 40 60 80 100 "
     ]
    }
   ],
   "source": [
    "my_list = [10, 20, 30, 40, 50, 60, 70, 80, 90, 100]\n",
    "for i in my_list[1::2]:\n",
    "    print(i, end=\" \")"
   ]
  },
  {
   "cell_type": "code",
   "execution_count": 9,
   "id": "23e8628c",
   "metadata": {},
   "outputs": [
    {
     "name": "stdout",
     "output_type": "stream",
     "text": [
      "Enter a number :2\n",
      "[0, 1, 8]\n"
     ]
    }
   ],
   "source": [
    "x=int(input(\"Enter a number :\"))\n",
    "result=[i*i*i for i in range(x+1)]\n",
    "print(result)"
   ]
  },
  {
   "cell_type": "code",
   "execution_count": 10,
   "id": "c22f2ec1",
   "metadata": {},
   "outputs": [
    {
     "name": "stdout",
     "output_type": "stream",
     "text": [
      "[5, 6, 3]\n"
     ]
    }
   ],
   "source": [
    "l = ['apple', 'orange', 'cat']\n",
    "print([ len(i) for i in l])"
   ]
  },
  {
   "cell_type": "code",
   "execution_count": 12,
   "id": "853e88ed",
   "metadata": {},
   "outputs": [
    {
     "name": "stdout",
     "output_type": "stream",
     "text": [
      "Enter a Name : \n",
      "fatma\n",
      "2\n"
     ]
    }
   ],
   "source": [
    "x=input(\"Enter a Name : \\n\")\n",
    "vowels = ['a', 'e', 'i', 'o', 'u', 'A', 'E', 'I', 'O', 'U']\n",
    "count=0\n",
    "for i in x:\n",
    "  if i in vowels:\n",
    "    count+=1\n",
    "print(count)"
   ]
  },
  {
   "cell_type": "code",
   "execution_count": 13,
   "id": "5efad2f5",
   "metadata": {},
   "outputs": [
    {
     "name": "stdout",
     "output_type": "stream",
     "text": [
      "('item1', 'item2', 'item3')\n"
     ]
    }
   ],
   "source": [
    "itemT= (\"item1\", \"item2\")\n",
    "iteml = list(itemT)\n",
    "iteml.append(\"item3\")\n",
    "itemT = tuple(iteml)\n",
    "print(itemT)"
   ]
  },
  {
   "cell_type": "code",
   "execution_count": 14,
   "id": "6f679416",
   "metadata": {},
   "outputs": [
    {
     "name": "stdout",
     "output_type": "stream",
     "text": [
      "30\n"
     ]
    }
   ],
   "source": [
    "list1 = [5, 10 , 15]\n",
    "listSum = sum(list1)\n",
    "print(listSum)"
   ]
  },
  {
   "cell_type": "code",
   "execution_count": 15,
   "id": "c3d5e801",
   "metadata": {},
   "outputs": [
    {
     "name": "stdout",
     "output_type": "stream",
     "text": [
      "27\n"
     ]
    }
   ],
   "source": [
    "list1=[3,3,3]\n",
    "x=1\n",
    "for i in list1:\n",
    "  x*=i\n",
    "print(x)"
   ]
  },
  {
   "cell_type": "code",
   "execution_count": 16,
   "id": "2127f2a0",
   "metadata": {},
   "outputs": [
    {
     "name": "stdout",
     "output_type": "stream",
     "text": [
      "3\n"
     ]
    }
   ],
   "source": [
    "l= [3, 4, 8]\n",
    "minv = min(l)\n",
    "print(minv)"
   ]
  },
  {
   "cell_type": "code",
   "execution_count": 17,
   "id": "f335677d",
   "metadata": {},
   "outputs": [
    {
     "name": "stdout",
     "output_type": "stream",
     "text": [
      "8\n"
     ]
    }
   ],
   "source": [
    "l= [3, 4, 8]\n",
    "minv = max(l)\n",
    "print(minv)"
   ]
  },
  {
   "cell_type": "code",
   "execution_count": 18,
   "id": "6ec830a7",
   "metadata": {},
   "outputs": [
    {
     "name": "stdout",
     "output_type": "stream",
     "text": [
      "[3, 4, 8]\n"
     ]
    }
   ],
   "source": [
    "list1 = [3, 4, 8]\n",
    "list2 = list1.copy()\n",
    "print(list2)"
   ]
  },
  {
   "cell_type": "code",
   "execution_count": 19,
   "id": "d1ae3e27",
   "metadata": {},
   "outputs": [
    {
     "name": "stdout",
     "output_type": "stream",
     "text": [
      "{0, 1, 5}\n"
     ]
    }
   ],
   "source": [
    "set1 = set([0, 1, 7, 4, 5])\n",
    "set1.remove(4)\n",
    "set1.remove(7)\n",
    "print(set1)"
   ]
  },
  {
   "cell_type": "code",
   "execution_count": 20,
   "id": "6e37e446",
   "metadata": {},
   "outputs": [
    {
     "name": "stdout",
     "output_type": "stream",
     "text": [
      "7 0\n"
     ]
    }
   ],
   "source": [
    "set1 =([0, 1, 7, 4, 5])\n",
    "maxVal = max(set1)\n",
    "minVal = min(set1)\n",
    "print(maxVal,end=\" \")\n",
    "print(minVal)"
   ]
  },
  {
   "cell_type": "code",
   "execution_count": 21,
   "id": "b1aaac5d",
   "metadata": {},
   "outputs": [
    {
     "name": "stdout",
     "output_type": "stream",
     "text": [
      "{(3, 'set'), (1, 'set1'), (0, 'age'), (2, 'city')}\n"
     ]
    }
   ],
   "source": [
    "dict1 = {}\n",
    "set1 = {\"age\", \"set\", \"set1\",\"city\"}\n",
    "x=set(enumerate(set1))\n",
    "print(x)"
   ]
  },
  {
   "cell_type": "code",
   "execution_count": 22,
   "id": "ddbaf531",
   "metadata": {},
   "outputs": [
    {
     "name": "stdout",
     "output_type": "stream",
     "text": [
      "{'brand': 'Ford', 'model': 'Mustang', 'year': 1964, 'color': 'White'}\n"
     ]
    }
   ],
   "source": [
    "car = {\n",
    "  \"brand\": \"Ford\",\n",
    "  \"model\": \"Mustang\",\n",
    "  \"year\": 1964\n",
    "}\n",
    "\n",
    "car.update({\"color\": \"White\"})\n",
    "\n",
    "print(car)"
   ]
  },
  {
   "cell_type": "code",
   "execution_count": 23,
   "id": "36eb71f7",
   "metadata": {},
   "outputs": [
    {
     "name": "stdout",
     "output_type": "stream",
     "text": [
      "{'name': 0, 'age': 1, 'city': 3}\n"
     ]
    }
   ],
   "source": [
    "dict1 = {}\n",
    "tuple1 = (\"name\", \"age\", \"city\",\"city\")\n",
    "for index, key in enumerate(tuple1):\n",
    "    dict1.update([(key,index)])\n",
    "\n",
    "print(dict1)"
   ]
  },
  {
   "cell_type": "code",
   "execution_count": 24,
   "id": "db3f3754",
   "metadata": {},
   "outputs": [
    {
     "name": "stdout",
     "output_type": "stream",
     "text": [
      "[(10, 20, 100), (40, 50, 100), (70, 80, 100)]\n"
     ]
    }
   ],
   "source": [
    "sample_list = [(10, 20, 40), (40, 50, 60), (70, 80, 90)]\n",
    "\n",
    "output_list = [(x, y, 100) for x, y, z in sample_list ]\n",
    "\n",
    "print(output_list)"
   ]
  },
  {
   "cell_type": "code",
   "execution_count": null,
   "id": "25f889b0",
   "metadata": {},
   "outputs": [],
   "source": []
  }
 ],
 "metadata": {
  "kernelspec": {
   "display_name": "Python 3 (ipykernel)",
   "language": "python",
   "name": "python3"
  },
  "language_info": {
   "codemirror_mode": {
    "name": "ipython",
    "version": 3
   },
   "file_extension": ".py",
   "mimetype": "text/x-python",
   "name": "python",
   "nbconvert_exporter": "python",
   "pygments_lexer": "ipython3",
   "version": "3.11.4"
  }
 },
 "nbformat": 4,
 "nbformat_minor": 5
}
