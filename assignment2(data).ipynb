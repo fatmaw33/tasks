{
 "cells": [
  {
   "cell_type": "code",
   "execution_count": 24,
   "id": "54bdc0c5",
   "metadata": {},
   "outputs": [
    {
     "name": "stdout",
     "output_type": "stream",
     "text": [
      "[30 31 32 33 34 35 36 37 38 39 40 41 42 43 44 45 46 47 48 49 50 51 52 53\n",
      " 54 55 56 57 58 59 60 61 62 63 64 65 66 67 68 69 70]\n"
     ]
    }
   ],
   "source": [
    "import numpy as np\n",
    "arr = np.arange(30, 71)\n",
    "print(arr)"
   ]
  },
  {
   "cell_type": "markdown",
   "id": "4f6a5dfb",
   "metadata": {},
   "source": [
    "np.identity(3)"
   ]
  },
  {
   "cell_type": "code",
   "execution_count": 5,
   "id": "f8bd1d24",
   "metadata": {},
   "outputs": [
    {
     "data": {
      "text/plain": [
       "array([[1., 0., 0.],\n",
       "       [0., 1., 0.],\n",
       "       [0., 0., 1.]])"
      ]
     },
     "execution_count": 5,
     "metadata": {},
     "output_type": "execute_result"
    }
   ],
   "source": [
    "np.identity(3)"
   ]
  },
  {
   "cell_type": "code",
   "execution_count": 6,
   "id": "e0b8d2ac",
   "metadata": {},
   "outputs": [
    {
     "data": {
      "text/plain": [
       "array([[1., 0., 0.],\n",
       "       [0., 1., 0.],\n",
       "       [0., 0., 1.]])"
      ]
     },
     "execution_count": 6,
     "metadata": {},
     "output_type": "execute_result"
    }
   ],
   "source": [
    "#or\n",
    "np.eye(3)"
   ]
  },
  {
   "cell_type": "code",
   "execution_count": 12,
   "id": "cf1e3a6d",
   "metadata": {},
   "outputs": [
    {
     "data": {
      "text/plain": [
       "array([0, 0, 0, 0, 0, 0, 0])"
      ]
     },
     "execution_count": 12,
     "metadata": {},
     "output_type": "execute_result"
    }
   ],
   "source": [
    "np.random.randint(2,5,7)"
   ]
  },
  {
   "cell_type": "code",
   "execution_count": 13,
   "id": "5760aefa",
   "metadata": {},
   "outputs": [
    {
     "data": {
      "text/plain": [
       "array([[0.27941026, 0.731631  , 0.52119845, 0.076893  , 0.50220939],\n",
       "       [0.43413796, 0.85262836, 0.8995158 , 0.27914996, 0.30207816],\n",
       "       [0.95728938, 0.57901676, 0.07918181, 0.95139675, 0.26668579]])"
      ]
     },
     "execution_count": 13,
     "metadata": {},
     "output_type": "execute_result"
    }
   ],
   "source": [
    "np.random.rand(3,5)"
   ]
  },
  {
   "cell_type": "code",
   "execution_count": 14,
   "id": "c5ac50f8",
   "metadata": {},
   "outputs": [
    {
     "data": {
      "text/plain": [
       "array([0.12433801, 0.22183591, 0.7691305 , 0.08329294, 0.22123764,\n",
       "       0.03251673, 0.01006732, 0.3102096 , 0.64620856, 0.92975696,\n",
       "       0.34979641, 0.45988072, 0.09413539, 0.80519685, 0.72532091])"
      ]
     },
     "execution_count": 14,
     "metadata": {},
     "output_type": "execute_result"
    }
   ],
   "source": [
    "np.random.rand(15)"
   ]
  },
  {
   "cell_type": "code",
   "execution_count": 18,
   "id": "92cdea57",
   "metadata": {},
   "outputs": [
    {
     "data": {
      "text/plain": [
       "array([1., 1., 1., 1., 1., 1., 1., 1., 1., 1.])"
      ]
     },
     "execution_count": 18,
     "metadata": {},
     "output_type": "execute_result"
    }
   ],
   "source": [
    "l=np.ones(10)\n",
    "l"
   ]
  },
  {
   "cell_type": "code",
   "execution_count": 19,
   "id": "7b65708e",
   "metadata": {},
   "outputs": [
    {
     "name": "stdout",
     "output_type": "stream",
     "text": [
      "[0. 0. 0. 0. 0. 0. 0. 0. 0. 0.]\n"
     ]
    }
   ],
   "source": [
    "m=np.zeros(10)\n",
    "print(m)"
   ]
  },
  {
   "cell_type": "code",
   "execution_count": 20,
   "id": "e1d817fe",
   "metadata": {},
   "outputs": [
    {
     "name": "stdout",
     "output_type": "stream",
     "text": [
      "[5 5 5 5 5 5 5 5 5 5]\n"
     ]
    }
   ],
   "source": [
    "f= np.full(10, 5)\n",
    "print(f)"
   ]
  },
  {
   "cell_type": "code",
   "execution_count": 21,
   "id": "20c0daba",
   "metadata": {},
   "outputs": [
    {
     "data": {
      "text/plain": [
       "array([[1., 1., 1., 1., 1., 1., 1., 1., 1., 1.],\n",
       "       [0., 0., 0., 0., 0., 0., 0., 0., 0., 0.],\n",
       "       [5., 5., 5., 5., 5., 5., 5., 5., 5., 5.]])"
      ]
     },
     "execution_count": 21,
     "metadata": {},
     "output_type": "execute_result"
    }
   ],
   "source": [
    "np.vstack((l,m,f))"
   ]
  },
  {
   "cell_type": "code",
   "execution_count": 30,
   "id": "cedc6df1",
   "metadata": {},
   "outputs": [
    {
     "name": "stdout",
     "output_type": "stream",
     "text": [
      "[[False  True False]\n",
      " [False False  True]\n",
      " [False False False]]\n"
     ]
    }
   ],
   "source": [
    "arr=np.array([[5,0,7],[6,7,0],[7,5,5]])\n",
    "print(arr==0)"
   ]
  },
  {
   "cell_type": "code",
   "execution_count": 33,
   "id": "23948304",
   "metadata": {},
   "outputs": [
    {
     "name": "stdout",
     "output_type": "stream",
     "text": [
      "[[ True False  True]\n",
      " [ True  True False]\n",
      " [ True  True  True]] \n",
      "\n",
      "[5 7 6 7 7 5 5]\n"
     ]
    }
   ],
   "source": [
    "print(arr!=0,\"\\n\")\n",
    "print(arr[arr!=0])"
   ]
  },
  {
   "cell_type": "code",
   "execution_count": 13,
   "id": "ca05fb06",
   "metadata": {},
   "outputs": [
    {
     "name": "stdout",
     "output_type": "stream",
     "text": [
      "[ True  True  True False  True]\n"
     ]
    }
   ],
   "source": [
    "arr = np.array([1, 2, 3, 0, 6])\n",
    "print(arr != 0)"
   ]
  },
  {
   "cell_type": "code",
   "execution_count": 14,
   "id": "f47a964f",
   "metadata": {},
   "outputs": [
    {
     "data": {
      "text/plain": [
       "array([1, 2, 3, 6])"
      ]
     },
     "execution_count": 14,
     "metadata": {},
     "output_type": "execute_result"
    }
   ],
   "source": [
    "arr[arr != 0]"
   ]
  },
  {
   "cell_type": "code",
   "execution_count": 11,
   "id": "479b2709",
   "metadata": {},
   "outputs": [
    {
     "name": "stdout",
     "output_type": "stream",
     "text": [
      "[False False False False  True]\n"
     ]
    }
   ],
   "source": [
    "arr1 = np.array([1, 2, 3, 4,0 ])\n",
    "print(arr1 == 0)"
   ]
  },
  {
   "cell_type": "code",
   "execution_count": 12,
   "id": "e15cf17e",
   "metadata": {},
   "outputs": [
    {
     "data": {
      "text/plain": [
       "array([0])"
      ]
     },
     "execution_count": 12,
     "metadata": {},
     "output_type": "execute_result"
    }
   ],
   "source": [
    "arr1[arr1 == 0]"
   ]
  },
  {
   "cell_type": "code",
   "execution_count": 15,
   "id": "01bb70df",
   "metadata": {},
   "outputs": [
    {
     "name": "stdout",
     "output_type": "stream",
     "text": [
      "Arrays are equal within a tolerance of 0.1 : True\n"
     ]
    }
   ],
   "source": [
    "arr1 = np.array([1, 2, 3, 4, 5])\n",
    "arr2 = np.array([1, 2.01, 3.02, 4.03, 5.04])\n",
    "tolerance = 0.1\n",
    "result = np.allclose(arr1, arr2, atol=tolerance)\n",
    "print(\"Arrays are equal within a tolerance of\", tolerance, \":\", result)"
   ]
  },
  {
   "cell_type": "code",
   "execution_count": 25,
   "id": "beebfdcf",
   "metadata": {},
   "outputs": [
    {
     "name": "stdout",
     "output_type": "stream",
     "text": [
      "[16 17 18 19 20 21 22 23 24 25 26 27 28 29 30 31 32 33 34 35 36 37 38 39\n",
      " 40 41 42 43 44 45 46 47 48 49 50 51 52 53 54]\n"
     ]
    }
   ],
   "source": [
    "vector = np.arange(15, 56)\n",
    "print(vector[1:-1])"
   ]
  },
  {
   "cell_type": "code",
   "execution_count": 26,
   "id": "4809289c",
   "metadata": {},
   "outputs": [
    {
     "data": {
      "text/plain": [
       "array([ 2,  3,  0, 10,  1])"
      ]
     },
     "execution_count": 26,
     "metadata": {},
     "output_type": "execute_result"
    }
   ],
   "source": [
    "vector = np.random.randint(0, 11, size=5)\n",
    "vector"
   ]
  },
  {
   "cell_type": "code",
   "execution_count": 32,
   "id": "2f91d9ca",
   "metadata": {},
   "outputs": [
    {
     "data": {
      "text/plain": [
       "array([[1., 1., 1., 1., 1., 1., 1., 1., 1., 1.],\n",
       "       [1., 0., 0., 0., 0., 0., 0., 0., 0., 1.],\n",
       "       [1., 0., 0., 0., 0., 0., 0., 0., 0., 1.],\n",
       "       [1., 0., 0., 0., 0., 0., 0., 0., 0., 1.],\n",
       "       [1., 0., 0., 0., 0., 0., 0., 0., 0., 1.],\n",
       "       [1., 0., 0., 0., 0., 0., 0., 0., 0., 1.],\n",
       "       [1., 0., 0., 0., 0., 0., 0., 0., 0., 1.],\n",
       "       [1., 0., 0., 0., 0., 0., 0., 0., 0., 1.],\n",
       "       [1., 0., 0., 0., 0., 0., 0., 0., 0., 1.],\n",
       "       [1., 1., 1., 1., 1., 1., 1., 1., 1., 1.]])"
      ]
     },
     "execution_count": 32,
     "metadata": {},
     "output_type": "execute_result"
    }
   ],
   "source": [
    "matrix = np.zeros((10, 10))\n",
    "matrix[0, :] = 1\n",
    "matrix[-1, :] = 1\n",
    "matrix[:, 0] = 1\n",
    "matrix[:, -1] = 1\n",
    "matrix"
   ]
  },
  {
   "cell_type": "code",
   "execution_count": 36,
   "id": "ffadc622",
   "metadata": {},
   "outputs": [
    {
     "data": {
      "text/plain": [
       "array([[1., 0., 0., 0., 0.],\n",
       "       [0., 2., 0., 0., 0.],\n",
       "       [0., 0., 3., 0., 0.],\n",
       "       [0., 0., 0., 4., 0.],\n",
       "       [0., 0., 0., 0., 5.]])"
      ]
     },
     "execution_count": 36,
     "metadata": {},
     "output_type": "execute_result"
    }
   ],
   "source": [
    "matrix = np.zeros((5, 5))\n",
    "matrix[0,0],matrix[1,1],matrix[2,2],matrix[3,3],matrix[4,4]=1,2,3,4,5\n",
    "matrix"
   ]
  },
  {
   "cell_type": "code",
   "execution_count": 37,
   "id": "97001d5d",
   "metadata": {},
   "outputs": [
    {
     "name": "stdout",
     "output_type": "stream",
     "text": [
      "[[1. 0. 0. 0. 0.]\n",
      " [0. 2. 0. 0. 0.]\n",
      " [0. 0. 3. 0. 0.]\n",
      " [0. 0. 0. 4. 0.]\n",
      " [0. 0. 0. 0. 5.]]\n"
     ]
    }
   ],
   "source": [
    "#or\n",
    "matrix = np.zeros((5, 5))\n",
    "np.fill_diagonal(matrix, [1, 2, 3, 4, 5])\n",
    "print(matrix)"
   ]
  },
  {
   "cell_type": "code",
   "execution_count": 38,
   "id": "4573d557",
   "metadata": {},
   "outputs": [
    {
     "name": "stdout",
     "output_type": "stream",
     "text": [
      "[[0. 1. 1. 1.]\n",
      " [1. 0. 1. 1.]\n",
      " [1. 1. 0. 1.]\n",
      " [1. 1. 1. 0.]]\n"
     ]
    }
   ],
   "source": [
    "matrix = np.ones((4, 4))\n",
    "np.fill_diagonal(matrix, [0, 0, 0, 0])\n",
    "print(matrix)"
   ]
  },
  {
   "cell_type": "code",
   "execution_count": 39,
   "id": "ca23e083",
   "metadata": {},
   "outputs": [
    {
     "name": "stdout",
     "output_type": "stream",
     "text": [
      "Array 1: [1 2 3 4 5]\n",
      "Array 2: [ 6  7  8  9 10]\n"
     ]
    }
   ],
   "source": [
    "arr1 = np.array([1, 2, 3, 4, 5])\n",
    "arr2 = np.array([6, 7, 8, 9, 10])\n",
    "np.savez_compressed('arrays.npz', arr1=arr1, arr2=arr2)\n",
    "data = np.load('arrays.npz')\n",
    "arr1_loaded = data['arr1']\n",
    "arr2_loaded = data['arr2']\n",
    "print(\"Array 1:\", arr1_loaded)\n",
    "print(\"Array 2:\", arr2_loaded)"
   ]
  },
  {
   "cell_type": "code",
   "execution_count": 40,
   "id": "cbf34223",
   "metadata": {},
   "outputs": [
    {
     "name": "stdout",
     "output_type": "stream",
     "text": [
      "Original Array:\n",
      "[0.03463743 0.67728103 0.17933785 0.9954038  0.86188019 0.52664498\n",
      " 0.41103492 0.73739467 0.88040654 0.47739262 0.12345712 0.27432779\n",
      " 0.68431692 0.99417919 0.90930414 0.78712685 0.9515988  0.41738798\n",
      " 0.05322105 0.866104   0.769215   0.88198613 0.76116378 0.66527426\n",
      " 0.96574067 0.78380333 0.24710647 0.23455857 0.14001934 0.57718066\n",
      " 0.24998208 0.42271036 0.89224903 0.45358109 0.10787159 0.15699445\n",
      " 0.10956641 0.01637443 0.64518722 0.59934719]\n",
      "\n",
      "Selected Values:\n",
      "[0.67728103 0.9954038  0.86188019 0.52664498 0.73739467 0.88040654\n",
      " 0.68431692 0.99417919 0.90930414 0.78712685 0.9515988  0.866104\n",
      " 0.769215   0.88198613 0.76116378 0.66527426 0.96574067 0.78380333\n",
      " 0.57718066 0.89224903 0.64518722 0.59934719]\n"
     ]
    }
   ],
   "source": [
    "array = np.random.rand(40)\n",
    "selected_values = array[array > 0.5]\n",
    "print(\"Original Array:\")\n",
    "print(array)\n",
    "print(\"\\nSelected Values:\")\n",
    "print(selected_values)"
   ]
  },
  {
   "cell_type": "code",
   "execution_count": null,
   "id": "ae8f91f7",
   "metadata": {},
   "outputs": [],
   "source": []
  }
 ],
 "metadata": {
  "kernelspec": {
   "display_name": "Python 3 (ipykernel)",
   "language": "python",
   "name": "python3"
  },
  "language_info": {
   "codemirror_mode": {
    "name": "ipython",
    "version": 3
   },
   "file_extension": ".py",
   "mimetype": "text/x-python",
   "name": "python",
   "nbconvert_exporter": "python",
   "pygments_lexer": "ipython3",
   "version": "3.11.4"
  }
 },
 "nbformat": 4,
 "nbformat_minor": 5
}
