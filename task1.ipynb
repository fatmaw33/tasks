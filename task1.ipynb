{
 "cells": [
  {
   "cell_type": "code",
   "execution_count": 1,
   "id": "7ca19d43",
   "metadata": {},
   "outputs": [
    {
     "name": "stdout",
     "output_type": "stream",
     "text": [
      "hello world\n"
     ]
    }
   ],
   "source": [
    "print(\"hello world\")"
   ]
  },
  {
   "cell_type": "code",
   "execution_count": 2,
   "id": "1e5e1d0d",
   "metadata": {},
   "outputs": [
    {
     "name": "stdout",
     "output_type": "stream",
     "text": [
      "my name is fatma and my age is 21\n"
     ]
    }
   ],
   "source": [
    "name= \"fatma\"\n",
    "age=21\n",
    "cour=\"Ai and machine learning\"\n",
    "print(f'my name is {name} and my age is { age} and my course is {cour}')"
   ]
  },
  {
   "cell_type": "code",
   "execution_count": 3,
   "id": "ea3ce1de",
   "metadata": {},
   "outputs": [
    {
     "name": "stdout",
     "output_type": "stream",
     "text": [
      "my name is fatma and my age is 21 and my course is Ai and machine learning\n"
     ]
    }
   ],
   "source": [
    "name= \"fatma\"\n",
    "age=21\n",
    "cour=\"Ai and machine learning\"\n",
    "print(f'my name is {name} and my age is { age} and my course is {cour}')"
   ]
  },
  {
   "cell_type": "code",
   "execution_count": 4,
   "id": "e552154e",
   "metadata": {},
   "outputs": [
    {
     "name": "stdout",
     "output_type": "stream",
     "text": [
      "LEARNING AMIT\n",
      "learning amit\n",
      "Learning amit\n",
      "learning hello\n"
     ]
    }
   ],
   "source": [
    "name='learning amit,learning amit'\n",
    "print(name.upper())\n",
    "name='learning amit'\n",
    "print(name.lower)\n",
    "name='learning amit'\n",
    "print(name.capitalize())\n",
    "name='learning amit'\n",
    "print(name.replace(\"amit\",\"hello\"))"
   ]
  },
  {
   "cell_type": "code",
   "execution_count": 7,
   "id": "8c72c5bb",
   "metadata": {},
   "outputs": [
    {
     "name": "stdout",
     "output_type": "stream",
     "text": [
      "2\n",
      "['learning', 'amit', 'learning', 'amit']\n"
     ]
    }
   ],
   "source": [
    "name='learning amit learning amit'\n",
    "print(name.count('amit'))\n",
    "name='learning amit learning amit'\n",
    "print(name.split())"
   ]
  },
  {
   "cell_type": "code",
   "execution_count": 8,
   "id": "08d4de52",
   "metadata": {},
   "outputs": [
    {
     "name": "stdout",
     "output_type": "stream",
     "text": [
      "hello\n",
      "world\n",
      "hello\tworld\n",
      "hello\bworld\n",
      "hello\"world\"\n"
     ]
    }
   ],
   "source": [
    "print(\"hello\\nworld\")\n",
    "print(\"hello\\tworld\")\n",
    "print(\"hello\\bworld\")\n",
    "print(\"hello\\\"world\\\"\")"
   ]
  },
  {
   "cell_type": "code",
   "execution_count": 9,
   "id": "c3346eae",
   "metadata": {},
   "outputs": [
    {
     "name": "stdout",
     "output_type": "stream",
     "text": [
      "5.0\n"
     ]
    }
   ],
   "source": [
    "x=5\n",
    "x=float(x)\n",
    "print(x)"
   ]
  },
  {
   "cell_type": "code",
   "execution_count": 10,
   "id": "7c7d5be3",
   "metadata": {},
   "outputs": [
    {
     "name": "stdout",
     "output_type": "stream",
     "text": [
      "5\n"
     ]
    }
   ],
   "source": [
    "x=5.5\n",
    "x=int(x)\n",
    "print(x)"
   ]
  },
  {
   "cell_type": "code",
   "execution_count": 11,
   "id": "80594e53",
   "metadata": {},
   "outputs": [
    {
     "name": "stdout",
     "output_type": "stream",
     "text": [
      "11\n"
     ]
    }
   ],
   "source": [
    "x=\"hello world\"\n",
    "print(len(x))"
   ]
  },
  {
   "cell_type": "code",
   "execution_count": 12,
   "id": "39e4c06e",
   "metadata": {},
   "outputs": [
    {
     "name": "stdout",
     "output_type": "stream",
     "text": [
      "h\n"
     ]
    }
   ],
   "source": [
    "x=\"hello world\"\n",
    "print(x[0])"
   ]
  },
  {
   "cell_type": "code",
   "execution_count": 14,
   "id": "8b722471",
   "metadata": {},
   "outputs": [
    {
     "name": "stdout",
     "output_type": "stream",
     "text": [
      "llo\n"
     ]
    }
   ],
   "source": [
    "x=\"hello world\"\n",
    "print(x[2:5])"
   ]
  },
  {
   "cell_type": "code",
   "execution_count": 19,
   "id": "d6614e69",
   "metadata": {},
   "outputs": [
    {
     "name": "stdout",
     "output_type": "stream",
     "text": [
      "hello world\n"
     ]
    }
   ],
   "source": [
    "x=\"  hello world  \"\n",
    "print(x.strip())\n"
   ]
  },
  {
   "cell_type": "code",
   "execution_count": 17,
   "id": "af391319",
   "metadata": {},
   "outputs": [
    {
     "name": "stdout",
     "output_type": "stream",
     "text": [
      "HELLO WORLD\n"
     ]
    }
   ],
   "source": [
    "x=\"hello world\"\n",
    "print(x.upper())"
   ]
  },
  {
   "cell_type": "code",
   "execution_count": 18,
   "id": "9fa8005d",
   "metadata": {},
   "outputs": [
    {
     "name": "stdout",
     "output_type": "stream",
     "text": [
      "hello world\n"
     ]
    }
   ],
   "source": [
    "x=\"hello world\"\n",
    "print(x.lower())"
   ]
  },
  {
   "cell_type": "code",
   "execution_count": 23,
   "id": "a43b9ad8",
   "metadata": {},
   "outputs": [
    {
     "name": "stdout",
     "output_type": "stream",
     "text": [
      "jello world\n"
     ]
    }
   ],
   "source": [
    "x=\"hello world\"\n",
    "print(x.replace('h','j'))"
   ]
  },
  {
   "cell_type": "code",
   "execution_count": 22,
   "id": "5403ab3e",
   "metadata": {},
   "outputs": [
    {
     "name": "stdout",
     "output_type": "stream",
     "text": [
      "my name is fatma , my age is 36\n"
     ]
    }
   ],
   "source": [
    "age=36\n",
    "txt=(f'my name is fatma , my age is {age}')\n",
    "print(txt)"
   ]
  },
  {
   "cell_type": "code",
   "execution_count": 24,
   "id": "04bc9e09",
   "metadata": {},
   "outputs": [
    {
     "name": "stdout",
     "output_type": "stream",
     "text": [
      "True\n",
      "False\n",
      "False\n"
     ]
    }
   ],
   "source": [
    "print(10>9)\n",
    "print(10==9)\n",
    "print(10<9)"
   ]
  },
  {
   "cell_type": "code",
   "execution_count": 27,
   "id": "0631be6b",
   "metadata": {},
   "outputs": [
    {
     "name": "stdout",
     "output_type": "stream",
     "text": [
      "Twinkle, twinkle, little star,\n",
      "\n",
      "\tHow I wonder what you are!\n",
      "\n",
      "\t\tUp above the world so high,\n",
      "\n",
      "\t\tLike a diamond in the sky.\n",
      "\n",
      "Twinkle, twinkle, little star,\n",
      "\n",
      "\tHow I wonder what you are!\n",
      "\n"
     ]
    }
   ],
   "source": [
    "c='''Twinkle, twinkle, little star,\\n\n",
    "\\tHow I wonder what you are!\\n\n",
    "\\t\\tUp above the world so high,\\n\n",
    "\\t\\tLike a diamond in the sky.\\n\n",
    "Twinkle, twinkle, little star,\\n\n",
    "\\tHow I wonder what you are!\\n'''\n",
    "print(c)"
   ]
  },
  {
   "cell_type": "code",
   "execution_count": 28,
   "id": "4ba5aed4",
   "metadata": {},
   "outputs": [
    {
     "name": "stdout",
     "output_type": "stream",
     "text": [
      "3.7994000000000008\n"
     ]
    }
   ],
   "source": [
    "r=1.1\n",
    "s=3.14*r*r\n",
    "print(s)"
   ]
  },
  {
   "cell_type": "code",
   "execution_count": 29,
   "id": "60914db4",
   "metadata": {},
   "outputs": [
    {
     "name": "stdout",
     "output_type": "stream",
     "text": [
      "waleed fatma\n"
     ]
    }
   ],
   "source": [
    "first=\"fatma\"\n",
    "last=\"waleed\"\n",
    "print(last+\" \"+first)"
   ]
  },
  {
   "cell_type": "code",
   "execution_count": 32,
   "id": "b75d33f1",
   "metadata": {},
   "outputs": [
    {
     "name": "stdout",
     "output_type": "stream",
     "text": [
      "inter your file name: jk.hjkk\n",
      "hjkk\n"
     ]
    }
   ],
   "source": [
    "b=input(\"inter your file name: \")\n",
    "ext=b.split(\".\")\n",
    "print(ext[1])"
   ]
  },
  {
   "cell_type": "code",
   "execution_count": 49,
   "id": "5ed7b758",
   "metadata": {},
   "outputs": [
    {
     "name": "stdout",
     "output_type": "stream",
     "text": [
      "['A', 'm', 'i', 't']\n"
     ]
    },
    {
     "data": {
      "text/plain": [
       "['A', 'm', 'n', 't']"
      ]
     },
     "execution_count": 49,
     "metadata": {},
     "output_type": "execute_result"
    }
   ],
   "source": [
    "c=\"Amit\"\n",
    "print(list(c))\n",
    "c=list(c)\n",
    "c[2]=\"n\"\n",
    "c"
   ]
  },
  {
   "cell_type": "code",
   "execution_count": 44,
   "id": "a850a405",
   "metadata": {},
   "outputs": [
    {
     "name": "stdout",
     "output_type": "stream",
     "text": [
      "('A', 'm', 'i', 't')\n"
     ]
    }
   ],
   "source": [
    "b=\"Amit\"\n",
    "print(tuple(b))"
   ]
  },
  {
   "cell_type": "code",
   "execution_count": 50,
   "id": "0359da36",
   "metadata": {},
   "outputs": [
    {
     "name": "stdout",
     "output_type": "stream",
     "text": [
      "Amnt\n"
     ]
    }
   ],
   "source": [
    "v=\"\".join(c)\n",
    "print(v)"
   ]
  },
  {
   "cell_type": "code",
   "execution_count": 52,
   "id": "24dbf7e5",
   "metadata": {},
   "outputs": [
    {
     "name": "stdout",
     "output_type": "stream",
     "text": [
      "['red', 'black']\n"
     ]
    }
   ],
   "source": [
    "color_list=[\"red\",\"grean\",\"white\",\"black\"]\n",
    "print(color_list[0::3])"
   ]
  },
  {
   "cell_type": "code",
   "execution_count": 53,
   "id": "859db18d",
   "metadata": {},
   "outputs": [
    {
     "name": "stdout",
     "output_type": "stream",
     "text": [
      "Twinkle, twinkle, little star,\n",
      "\tHow I wonder what you are!\n",
      "\t\tUp above the world so high,\n",
      "\t\tLike a diamond in the sky.\n",
      "Twinkle, twinkle, little star,\n",
      "\tHow I wonder what you are!\n"
     ]
    }
   ],
   "source": [
    "m='''Twinkle, twinkle, little star,\n",
    "\tHow I wonder what you are!\n",
    "\t\tUp above the world so high,\n",
    "\t\tLike a diamond in the sky.\n",
    "Twinkle, twinkle, little star,\n",
    "\tHow I wonder what you are!'''\n",
    "print(m)"
   ]
  },
  {
   "cell_type": "code",
   "execution_count": 56,
   "id": "7edf3afc",
   "metadata": {},
   "outputs": [
    {
     "name": "stdout",
     "output_type": "stream",
     "text": [
      "True\n",
      "False\n"
     ]
    }
   ],
   "source": [
    "b=\"https://www.google.com\"\n",
    "em=\"hgjhgk.co\"\n",
    "print(b.startswith(\"https\"))\n",
    "print(em.endswith(\".com\"))"
   ]
  },
  {
   "cell_type": "code",
   "execution_count": null,
   "id": "ca88bf3a",
   "metadata": {},
   "outputs": [],
   "source": []
  }
 ],
 "metadata": {
  "kernelspec": {
   "display_name": "Python 3 (ipykernel)",
   "language": "python",
   "name": "python3"
  },
  "language_info": {
   "codemirror_mode": {
    "name": "ipython",
    "version": 3
   },
   "file_extension": ".py",
   "mimetype": "text/x-python",
   "name": "python",
   "nbconvert_exporter": "python",
   "pygments_lexer": "ipython3",
   "version": "3.11.4"
  }
 },
 "nbformat": 4,
 "nbformat_minor": 5
}
