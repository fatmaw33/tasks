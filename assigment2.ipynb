{
 "cells": [
  {
   "cell_type": "code",
   "execution_count": 1,
   "id": "7d27ef8b",
   "metadata": {},
   "outputs": [
    {
     "name": "stdout",
     "output_type": "stream",
     "text": [
      "input first num: 3\n",
      "input second num: 6\n",
      "max num is:  6\n"
     ]
    }
   ],
   "source": [
    "num1=int(input(\"input first num: \"))\n",
    "num2=int(input(\"input second num: \"))\n",
    "result= num1 if num1>num2 else num2\n",
    "print(\"max num is: \",result)"
   ]
  },
  {
   "cell_type": "code",
   "execution_count": 2,
   "id": "c647dfd8",
   "metadata": {},
   "outputs": [
    {
     "name": "stdout",
     "output_type": "stream",
     "text": [
      "input first num: 5\n",
      "input second num: 7\n",
      "input third num: 8\n",
      "max num is:  8\n"
     ]
    }
   ],
   "source": [
    "num1=int(input(\"input first num: \"))\n",
    "num2=int(input(\"input second num: \"))\n",
    "num3=int(input(\"input third num: \"))\n",
    "if(num1>num2):\n",
    " print(\"max num is: \",num1)\n",
    "elif(num1>num3):\n",
    "     print(\"max num is: \",num1)\n",
    "elif(num2>num3):\n",
    "     print(\"max num is: \",num2)        \n",
    "else:\n",
    " print(\"max num is: \",num3)"
   ]
  },
  {
   "cell_type": "code",
   "execution_count": 5,
   "id": "feff8947",
   "metadata": {},
   "outputs": [
    {
     "name": "stdout",
     "output_type": "stream",
     "text": [
      "input the num: 5\n",
      "the num is postive\n"
     ]
    }
   ],
   "source": [
    "num=int(input(\"input the num: \"))\n",
    "result= \"the num is postive\" if num>=0 else \"the num is negative\"\n",
    "print(result)"
   ]
  },
  {
   "cell_type": "code",
   "execution_count": 6,
   "id": "ad696874",
   "metadata": {},
   "outputs": [
    {
     "name": "stdout",
     "output_type": "stream",
     "text": [
      "input the year: 2000\n",
      "the year is leap \n"
     ]
    }
   ],
   "source": [
    "year=int(input(\"input the year: \")) \n",
    "result=\"the year is leap \" if year%4 == 0 and year%400 == 0 else \"the year is not leap \" \n",
    "print(result)"
   ]
  },
  {
   "cell_type": "code",
   "execution_count": 7,
   "id": "b9a5134d",
   "metadata": {},
   "outputs": [
    {
     "name": "stdout",
     "output_type": "stream",
     "text": [
      "سبت\n",
      "الاحد\n",
      "الاثنان\n",
      "التلات\n",
      "الاربع\n",
      "الخميس\n",
      "الجمعه\n"
     ]
    }
   ],
   "source": [
    "l=[\"سبت\" , \"الاحد\" , \"الاثنان\" , \"التلات\", \"الاربع\", \"الخميس\" , \"الجمعه\"]\n",
    "for x in l:\n",
    "    print(x)"
   ]
  },
  {
   "cell_type": "code",
   "execution_count": 8,
   "id": "fcc7ca7a",
   "metadata": {},
   "outputs": [
    {
     "name": "stdout",
     "output_type": "stream",
     "text": [
      "a\n",
      "b\n",
      "c\n",
      "d\n",
      "e\n",
      "f\n",
      "g\n",
      "h\n",
      "i\n",
      "j\n",
      "k\n",
      "l\n",
      "m\n",
      "n\n",
      "o\n",
      "p\n",
      "q\n",
      "r\n",
      "s\n",
      "t\n",
      "u\n",
      "v\n",
      "w\n",
      "x\n",
      "y\n",
      "z\n"
     ]
    }
   ],
   "source": [
    "start=ord(\"a\")\n",
    "end=start+26\n",
    "while(start < end):\n",
    "    print(chr(start))\n",
    "    start+=1"
   ]
  },
  {
   "cell_type": "code",
   "execution_count": 9,
   "id": "8fb75275",
   "metadata": {},
   "outputs": [
    {
     "name": "stdout",
     "output_type": "stream",
     "text": [
      "input the num: 4\n",
      "4\n",
      "8\n",
      "12\n",
      "16\n",
      "20\n",
      "24\n",
      "28\n",
      "32\n",
      "36\n",
      "40\n",
      "44\n",
      "48\n"
     ]
    }
   ],
   "source": [
    "i=1\n",
    "num=int(input(\"input the num: \"))\n",
    "while (i<=12):\n",
    "    print(num*i)\n",
    "    i+=1"
   ]
  },
  {
   "cell_type": "code",
   "execution_count": 10,
   "id": "e36a7b19",
   "metadata": {},
   "outputs": [
    {
     "name": "stdout",
     "output_type": "stream",
     "text": [
      "1\n",
      "2\n",
      "3\n",
      "4\n",
      "5\n",
      "6\n",
      "7\n",
      "8\n",
      "9\n",
      "10\n",
      "11\n",
      "12\n",
      "13\n",
      "14\n",
      "15\n",
      "16\n",
      "17\n",
      "18\n",
      "19\n",
      "20\n",
      "21\n",
      "22\n",
      "23\n",
      "24\n",
      "25\n",
      "26\n",
      "27\n",
      "28\n",
      "29\n",
      "30\n",
      "31\n",
      "32\n",
      "33\n",
      "34\n",
      "35\n",
      "36\n",
      "37\n",
      "38\n",
      "39\n",
      "40\n",
      "41\n",
      "42\n",
      "43\n",
      "44\n",
      "45\n",
      "46\n",
      "47\n",
      "48\n",
      "49\n",
      "50\n",
      "51\n",
      "52\n",
      "53\n",
      "54\n",
      "55\n",
      "56\n",
      "57\n",
      "58\n",
      "59\n",
      "60\n",
      "61\n",
      "62\n",
      "63\n",
      "64\n",
      "65\n",
      "66\n",
      "67\n",
      "68\n",
      "69\n",
      "70\n",
      "71\n",
      "72\n",
      "73\n",
      "74\n",
      "75\n",
      "76\n",
      "77\n",
      "78\n",
      "79\n",
      "80\n",
      "81\n",
      "82\n",
      "83\n",
      "84\n",
      "85\n",
      "86\n",
      "87\n",
      "88\n",
      "89\n",
      "90\n",
      "91\n",
      "92\n",
      "93\n",
      "94\n",
      "95\n",
      "96\n",
      "97\n",
      "98\n",
      "99\n",
      "100\n"
     ]
    }
   ],
   "source": [
    "x=1\n",
    "while(x<=100):\n",
    "    print(x)\n",
    "    x+=1"
   ]
  },
  {
   "cell_type": "code",
   "execution_count": null,
   "id": "51858c7f",
   "metadata": {},
   "outputs": [],
   "source": []
  }
 ],
 "metadata": {
  "kernelspec": {
   "display_name": "Python 3 (ipykernel)",
   "language": "python",
   "name": "python3"
  },
  "language_info": {
   "codemirror_mode": {
    "name": "ipython",
    "version": 3
   },
   "file_extension": ".py",
   "mimetype": "text/x-python",
   "name": "python",
   "nbconvert_exporter": "python",
   "pygments_lexer": "ipython3",
   "version": "3.11.4"
  }
 },
 "nbformat": 4,
 "nbformat_minor": 5
}
