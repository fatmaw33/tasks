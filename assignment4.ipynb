{
 "cells": [
  {
   "cell_type": "code",
   "execution_count": 17,
   "id": "eaf9e156",
   "metadata": {},
   "outputs": [
    {
     "name": "stdout",
     "output_type": "stream",
     "text": [
      "Welcome\n"
     ]
    }
   ],
   "source": [
    "class calculator():\n",
    "    def __init__(self):    \n",
    "        print(\"Welcome\")   \n",
    "x=calculator()"
   ]
  },
  {
   "cell_type": "code",
   "execution_count": 20,
   "id": "26f5b248",
   "metadata": {},
   "outputs": [
    {
     "name": "stdout",
     "output_type": "stream",
     "text": [
      "7\n"
     ]
    }
   ],
   "source": [
    "class calculator():\n",
    "    def __init__(self,x,y):    \n",
    "       self.x=x\n",
    "       self.y=y\n",
    "    def sum(self):\n",
    "        return self.x+self.y\n",
    "x=calculator(3,4)\n",
    "print(x.sum())"
   ]
  },
  {
   "cell_type": "code",
   "execution_count": 21,
   "id": "60436558",
   "metadata": {},
   "outputs": [
    {
     "name": "stdout",
     "output_type": "stream",
     "text": [
      "7\n",
      "-1\n"
     ]
    }
   ],
   "source": [
    "class calculator():\n",
    "    def __init__(self,x,y):    \n",
    "       self.x=x\n",
    "       self.y=y\n",
    "    def sum(self):\n",
    "        return self.x+self.y\n",
    "    def mull(self):\n",
    "        return self.x-self.y\n",
    "x=calculator(3,4)\n",
    "print(x.sum())\n",
    "print(x.mull())"
   ]
  },
  {
   "cell_type": "code",
   "execution_count": 28,
   "id": "534960f7",
   "metadata": {},
   "outputs": [
    {
     "name": "stdout",
     "output_type": "stream",
     "text": [
      "7\n",
      "-1\n",
      "9 16\n"
     ]
    }
   ],
   "source": [
    "class SciCalc():\n",
    "    def __init__(self,x,y):    \n",
    "       self.x=x\n",
    "       self.y=y\n",
    "    def sum(self):\n",
    "        return self.x+self.y\n",
    "    def mull(self):\n",
    "        return self.x-self.y\n",
    "    def power(self):\n",
    "       print(self.x**2 , self.y**2)\n",
    "x=SciCalc(3,4)\n",
    "print(x.sum())\n",
    "print(x.mull())\n",
    "x.power()  "
   ]
  },
  {
   "cell_type": "code",
   "execution_count": 1,
   "id": "dddc67ca",
   "metadata": {},
   "outputs": [],
   "source": [
    "### Explain in few words why we call the self in methods \n",
    "#instance of the class \n",
    "#the object is automatically passed as the first argument using the “self” parameter.\n"
   ]
  },
  {
   "cell_type": "code",
   "execution_count": 2,
   "id": "b191ae46",
   "metadata": {},
   "outputs": [],
   "source": [
    "###  Why we use OOP in our code\n",
    "#is a programming paradigm that structures code using objects "
   ]
  },
  {
   "cell_type": "code",
   "execution_count": null,
   "id": "19e76b6a",
   "metadata": {},
   "outputs": [],
   "source": []
  }
 ],
 "metadata": {
  "kernelspec": {
   "display_name": "Python 3 (ipykernel)",
   "language": "python",
   "name": "python3"
  },
  "language_info": {
   "codemirror_mode": {
    "name": "ipython",
    "version": 3
   },
   "file_extension": ".py",
   "mimetype": "text/x-python",
   "name": "python",
   "nbconvert_exporter": "python",
   "pygments_lexer": "ipython3",
   "version": "3.11.4"
  }
 },
 "nbformat": 4,
 "nbformat_minor": 5
}
